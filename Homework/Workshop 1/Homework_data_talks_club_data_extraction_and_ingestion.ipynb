{
 "cells": [
  {
   "cell_type": "markdown",
   "metadata": {
    "id": "mrTFv5nPClXh"
   },
   "source": [
    "# **Homework**: Data talks club data engineering zoomcamp Data loading workshop\n",
    "\n",
    "Hello folks, let's practice what we learned - Loading data with the best practices of data engineering.\n",
    "\n",
    "Here are the exercises we will do\n",
    "\n",
    "\n"
   ]
  },
  {
   "cell_type": "markdown",
   "metadata": {
    "id": "wLF4iXf-NR7t"
   },
   "source": [
    "# 1. Use a generator\n",
    "\n",
    "Remember the concept of generator? Let's practice using them to futher our understanding of how they work.\n",
    "\n",
    "Let's define a generator and then run it as practice.\n",
    "\n",
    "**Answer the following questions:**\n",
    "\n",
    "- **Question 1: What is the sum of the outputs of the generator for limit = 5?**\n",
    "- **Question 2: What is the 13th number yielded**\n",
    "\n",
    "I suggest practicing these questions without GPT as the purpose is to further your learning."
   ]
  },
  {
   "cell_type": "code",
   "execution_count": 1,
   "metadata": {
    "colab": {
     "base_uri": "https://localhost:8080/"
    },
    "id": "wLng-bDJN4jf",
    "outputId": "547683cb-5f56-4815-a903-d0d9578eb1f9"
   },
   "outputs": [
    {
     "name": "stdout",
     "output_type": "stream",
     "text": [
      "1.0\n",
      "1.4142135623730951\n",
      "1.7320508075688772\n",
      "2.0\n",
      "2.23606797749979\n"
     ]
    }
   ],
   "source": [
    "def square_root_generator(limit):\n",
    "    n = 1\n",
    "    while n <= limit:\n",
    "        yield n ** 0.5\n",
    "        n += 1\n",
    "\n",
    "# Example usage:\n",
    "limit = 5\n",
    "generator = square_root_generator(limit)\n",
    "\n",
    "for sqrt_value in generator:\n",
    "    print(sqrt_value)\n"
   ]
  },
  {
   "cell_type": "code",
   "execution_count": 2,
   "metadata": {
    "id": "xbe3q55zN43j"
   },
   "outputs": [
    {
     "name": "stdout",
     "output_type": "stream",
     "text": [
      "8.382332347441762\n"
     ]
    }
   ],
   "source": [
    "# get sum of limit 5\n",
    "result = 0\n",
    "for value in square_root_generator(5):\n",
    "    result += value\n",
    "print(result)"
   ]
  },
  {
   "cell_type": "code",
   "execution_count": 3,
   "metadata": {},
   "outputs": [
    {
     "name": "stdout",
     "output_type": "stream",
     "text": [
      "3.605551275463989\n"
     ]
    }
   ],
   "source": [
    "# get 13th number\n",
    "result = 0\n",
    "for value in square_root_generator(13):\n",
    "    result = value\n",
    "print(result)"
   ]
  },
  {
   "cell_type": "markdown",
   "metadata": {
    "id": "vjWhILzGJMpK"
   },
   "source": [
    "# 2. Append a generator to a table with existing data\n",
    "\n",
    "\n",
    "Below you have 2 generators. You will be tasked to load them to duckdb and answer some questions from the data\n",
    "\n",
    "1. Load the first generator and calculate the sum of ages of all people. Make sure to only load it once.\n",
    "2. Append the second generator to the same table as the first.\n",
    "3. **After correctly appending the data, calculate the sum of all ages of people.**\n",
    "\n",
    "\n"
   ]
  },
  {
   "cell_type": "code",
   "execution_count": 4,
   "metadata": {
    "colab": {
     "base_uri": "https://localhost:8080/"
    },
    "id": "2MoaQcdLBEk6",
    "outputId": "d2b93dc1-d83f-44ea-aeff-fdf51d75f7aa"
   },
   "outputs": [
    {
     "name": "stdout",
     "output_type": "stream",
     "text": [
      "{'ID': 1, 'Name': 'Person_1', 'Age': 26, 'City': 'City_A'}\n",
      "{'ID': 2, 'Name': 'Person_2', 'Age': 27, 'City': 'City_A'}\n",
      "{'ID': 3, 'Name': 'Person_3', 'Age': 28, 'City': 'City_A'}\n",
      "{'ID': 4, 'Name': 'Person_4', 'Age': 29, 'City': 'City_A'}\n",
      "{'ID': 5, 'Name': 'Person_5', 'Age': 30, 'City': 'City_A'}\n",
      "{'ID': 3, 'Name': 'Person_3', 'Age': 33, 'City': 'City_B', 'Occupation': 'Job_3'}\n",
      "{'ID': 4, 'Name': 'Person_4', 'Age': 34, 'City': 'City_B', 'Occupation': 'Job_4'}\n",
      "{'ID': 5, 'Name': 'Person_5', 'Age': 35, 'City': 'City_B', 'Occupation': 'Job_5'}\n",
      "{'ID': 6, 'Name': 'Person_6', 'Age': 36, 'City': 'City_B', 'Occupation': 'Job_6'}\n",
      "{'ID': 7, 'Name': 'Person_7', 'Age': 37, 'City': 'City_B', 'Occupation': 'Job_7'}\n",
      "{'ID': 8, 'Name': 'Person_8', 'Age': 38, 'City': 'City_B', 'Occupation': 'Job_8'}\n"
     ]
    }
   ],
   "source": [
    "def people_1():\n",
    "    for i in range(1, 6):\n",
    "        yield {\"ID\": i, \"Name\": f\"Person_{i}\", \"Age\": 25 + i, \"City\": \"City_A\"}\n",
    "\n",
    "for person in people_1():\n",
    "    print(person)\n",
    "\n",
    "\n",
    "def people_2():\n",
    "    for i in range(3, 9):\n",
    "        yield {\"ID\": i, \"Name\": f\"Person_{i}\", \"Age\": 30 + i, \"City\": \"City_B\", \"Occupation\": f\"Job_{i}\"}\n",
    "\n",
    "\n",
    "for person in people_2():\n",
    "    print(person)\n"
   ]
  },
  {
   "cell_type": "code",
   "execution_count": 5,
   "metadata": {
    "id": "vtdTIm4fvQCN"
   },
   "outputs": [
    {
     "name": "stdout",
     "output_type": "stream",
     "text": [
      "Pipeline dlt_ipykernel_launcher load step completed in 0.20 seconds\n",
      "1 load package(s) were loaded to destination duckdb and into dataset generators\n",
      "The duckdb destination used duckdb:////Users/alexkorga/DEZoomcamp2024/Workshop1/dlt_ipykernel_launcher.duckdb location to store data\n",
      "Load package 1708260079.41713 is LOADED and contains no failed jobs\n",
      "Loaded tables: \n"
     ]
    },
    {
     "data": {
      "text/plain": [
       "┌─────────────────────┐\n",
       "│        name         │\n",
       "│       varchar       │\n",
       "├─────────────────────┤\n",
       "│ _dlt_loads          │\n",
       "│ _dlt_pipeline_state │\n",
       "│ _dlt_version        │\n",
       "│ people_task2        │\n",
       "│ people_task3        │\n",
       "└─────────────────────┘"
      ]
     },
     "metadata": {},
     "output_type": "display_data"
    },
    {
     "data": {
      "text/html": [
       "<div>\n",
       "<style scoped>\n",
       "    .dataframe tbody tr th:only-of-type {\n",
       "        vertical-align: middle;\n",
       "    }\n",
       "\n",
       "    .dataframe tbody tr th {\n",
       "        vertical-align: top;\n",
       "    }\n",
       "\n",
       "    .dataframe thead th {\n",
       "        text-align: right;\n",
       "    }\n",
       "</style>\n",
       "<table border=\"1\" class=\"dataframe\">\n",
       "  <thead>\n",
       "    <tr style=\"text-align: right;\">\n",
       "      <th></th>\n",
       "      <th>sum(Age)</th>\n",
       "    </tr>\n",
       "  </thead>\n",
       "  <tbody>\n",
       "    <tr>\n",
       "      <th>0</th>\n",
       "      <td>140.0</td>\n",
       "    </tr>\n",
       "  </tbody>\n",
       "</table>\n",
       "</div>"
      ],
      "text/plain": [
       "   sum(Age)\n",
       "0     140.0"
      ]
     },
     "metadata": {},
     "output_type": "display_data"
    }
   ],
   "source": [
    "import dlt\n",
    "import duckdb\n",
    "\n",
    "generators_pipeline = dlt.pipeline(destination='duckdb', dataset_name='generators')\n",
    "\n",
    "info = generators_pipeline.run(people_1(),\n",
    "\t\t\t\t\t\t\t\t\t\ttable_name=\"people_task2\",\n",
    "\t\t\t\t\t\t\t\t\t\twrite_disposition=\"replace\")\n",
    "print(info)\n",
    "\n",
    "conn = duckdb.connect(f\"{generators_pipeline.pipeline_name}.duckdb\")\n",
    "conn.sql(f\"SET search_path = '{generators_pipeline.dataset_name}'\")\n",
    "print('Loaded tables: ')\n",
    "display(conn.sql(\"show tables\"))\n",
    "\n",
    "agg_age = conn.sql(\"SELECT sum(Age) FROM people_task2\").df()\n",
    "display(agg_age)"
   ]
  },
  {
   "cell_type": "code",
   "execution_count": 6,
   "metadata": {},
   "outputs": [
    {
     "name": "stdout",
     "output_type": "stream",
     "text": [
      "Pipeline dlt_ipykernel_launcher load step completed in 0.16 seconds\n",
      "1 load package(s) were loaded to destination duckdb and into dataset generators\n",
      "The duckdb destination used duckdb:////Users/alexkorga/DEZoomcamp2024/Workshop1/dlt_ipykernel_launcher.duckdb location to store data\n",
      "Load package 1708260080.0167549 is LOADED and contains no failed jobs\n"
     ]
    },
    {
     "data": {
      "text/html": [
       "<div>\n",
       "<style scoped>\n",
       "    .dataframe tbody tr th:only-of-type {\n",
       "        vertical-align: middle;\n",
       "    }\n",
       "\n",
       "    .dataframe tbody tr th {\n",
       "        vertical-align: top;\n",
       "    }\n",
       "\n",
       "    .dataframe thead th {\n",
       "        text-align: right;\n",
       "    }\n",
       "</style>\n",
       "<table border=\"1\" class=\"dataframe\">\n",
       "  <thead>\n",
       "    <tr style=\"text-align: right;\">\n",
       "      <th></th>\n",
       "      <th>sum(Age)</th>\n",
       "    </tr>\n",
       "  </thead>\n",
       "  <tbody>\n",
       "    <tr>\n",
       "      <th>0</th>\n",
       "      <td>353.0</td>\n",
       "    </tr>\n",
       "  </tbody>\n",
       "</table>\n",
       "</div>"
      ],
      "text/plain": [
       "   sum(Age)\n",
       "0     353.0"
      ]
     },
     "metadata": {},
     "output_type": "display_data"
    }
   ],
   "source": [
    "info = generators_pipeline.run(people_2(),\n",
    "\t\t\t\t\t\t\t\t\t\ttable_name=\"people_task2\",\n",
    "\t\t\t\t\t\t\t\t\t\twrite_disposition=\"append\")\n",
    "print(info)\n",
    "\n",
    "agg_age = conn.sql(\"SELECT sum(Age) FROM people_task2\").df()\n",
    "display(agg_age)"
   ]
  },
  {
   "cell_type": "markdown",
   "metadata": {
    "id": "pY4cFAWOSwN1"
   },
   "source": [
    "# 3. Merge a generator\n",
    "\n",
    "Re-use the generators from Exercise 2.\n",
    "\n",
    "A table's primary key needs to be created from the start, so load your data to a new table with primary key ID.\n",
    "\n",
    "Load your first generator first, and then load the second one with merge. Since they have overlapping IDs, some of the records from the first load should be replaced by the ones from the second load.\n",
    "\n",
    "After loading, you should have a total of 8 records, and ID 3 should have age 33.\n",
    "\n",
    "Question: **Calculate the sum of ages of all the people loaded as described above.**\n"
   ]
  },
  {
   "cell_type": "code",
   "execution_count": 7,
   "metadata": {},
   "outputs": [
    {
     "name": "stdout",
     "output_type": "stream",
     "text": [
      "Pipeline dlt_ipykernel_launcher load step completed in 0.32 seconds\n",
      "1 load package(s) were loaded to destination duckdb and into dataset generators\n",
      "The duckdb destination used duckdb:////Users/alexkorga/DEZoomcamp2024/Workshop1/dlt_ipykernel_launcher.duckdb location to store data\n",
      "Load package 1708260080.586376 is LOADED and contains no failed jobs\n",
      "Loaded tables: \n"
     ]
    },
    {
     "data": {
      "text/plain": [
       "┌─────────────────────┐\n",
       "│        name         │\n",
       "│       varchar       │\n",
       "├─────────────────────┤\n",
       "│ _dlt_loads          │\n",
       "│ _dlt_pipeline_state │\n",
       "│ _dlt_version        │\n",
       "│ people_task2        │\n",
       "│ people_task3        │\n",
       "└─────────────────────┘"
      ]
     },
     "metadata": {},
     "output_type": "display_data"
    },
    {
     "data": {
      "text/html": [
       "<div>\n",
       "<style scoped>\n",
       "    .dataframe tbody tr th:only-of-type {\n",
       "        vertical-align: middle;\n",
       "    }\n",
       "\n",
       "    .dataframe tbody tr th {\n",
       "        vertical-align: top;\n",
       "    }\n",
       "\n",
       "    .dataframe thead th {\n",
       "        text-align: right;\n",
       "    }\n",
       "</style>\n",
       "<table border=\"1\" class=\"dataframe\">\n",
       "  <thead>\n",
       "    <tr style=\"text-align: right;\">\n",
       "      <th></th>\n",
       "      <th>sum(Age)</th>\n",
       "    </tr>\n",
       "  </thead>\n",
       "  <tbody>\n",
       "    <tr>\n",
       "      <th>0</th>\n",
       "      <td>251.0</td>\n",
       "    </tr>\n",
       "  </tbody>\n",
       "</table>\n",
       "</div>"
      ],
      "text/plain": [
       "   sum(Age)\n",
       "0     251.0"
      ]
     },
     "metadata": {},
     "output_type": "display_data"
    }
   ],
   "source": [
    "import dlt\n",
    "import duckdb\n",
    "\n",
    "generators_pipeline = dlt.pipeline(destination='duckdb', dataset_name='generators')\n",
    "\n",
    "info = generators_pipeline.run(people_1(),\n",
    "\t\t\t\t\t\t\t\t\t\ttable_name=\"people_task3\",\n",
    "\t\t\t\t\t\t\t\t\t\twrite_disposition=\"merge\",\n",
    "                                        primary_key='ID')\n",
    "print(info)\n",
    "\n",
    "conn = duckdb.connect(f\"{generators_pipeline.pipeline_name}.duckdb\")\n",
    "conn.sql(f\"SET search_path = '{generators_pipeline.dataset_name}'\")\n",
    "print('Loaded tables: ')\n",
    "display(conn.sql(\"show tables\"))\n",
    "\n",
    "agg_age = conn.sql(\"SELECT sum(Age) FROM people_task3\").df()\n",
    "display(agg_age)"
   ]
  },
  {
   "cell_type": "code",
   "execution_count": 8,
   "metadata": {},
   "outputs": [
    {
     "name": "stdout",
     "output_type": "stream",
     "text": [
      "Pipeline dlt_ipykernel_launcher load step completed in 0.32 seconds\n",
      "1 load package(s) were loaded to destination duckdb and into dataset generators\n",
      "The duckdb destination used duckdb:////Users/alexkorga/DEZoomcamp2024/Workshop1/dlt_ipykernel_launcher.duckdb location to store data\n",
      "Load package 1708260081.316096 is LOADED and contains no failed jobs\n"
     ]
    },
    {
     "data": {
      "text/html": [
       "<div>\n",
       "<style scoped>\n",
       "    .dataframe tbody tr th:only-of-type {\n",
       "        vertical-align: middle;\n",
       "    }\n",
       "\n",
       "    .dataframe tbody tr th {\n",
       "        vertical-align: top;\n",
       "    }\n",
       "\n",
       "    .dataframe thead th {\n",
       "        text-align: right;\n",
       "    }\n",
       "</style>\n",
       "<table border=\"1\" class=\"dataframe\">\n",
       "  <thead>\n",
       "    <tr style=\"text-align: right;\">\n",
       "      <th></th>\n",
       "      <th>sum(Age)</th>\n",
       "    </tr>\n",
       "  </thead>\n",
       "  <tbody>\n",
       "    <tr>\n",
       "      <th>0</th>\n",
       "      <td>266.0</td>\n",
       "    </tr>\n",
       "  </tbody>\n",
       "</table>\n",
       "</div>"
      ],
      "text/plain": [
       "   sum(Age)\n",
       "0     266.0"
      ]
     },
     "metadata": {},
     "output_type": "display_data"
    }
   ],
   "source": [
    "info = generators_pipeline.run(people_2(),\n",
    "\t\t\t\t\t\t\t\t\t\ttable_name=\"people_task3\",\n",
    "\t\t\t\t\t\t\t\t\t\twrite_disposition=\"merge\",\n",
    "                                        primary_key='ID')\n",
    "print(info)\n",
    "\n",
    "agg_age = conn.sql(\"SELECT sum(Age) FROM people_task3\").df()\n",
    "display(agg_age)"
   ]
  },
  {
   "cell_type": "markdown",
   "metadata": {
    "id": "kKB2GTB9oVjr"
   },
   "source": [
    "# Solution: First make sure that the following modules are installed:"
   ]
  },
  {
   "cell_type": "code",
   "execution_count": 9,
   "metadata": {
    "id": "xTVvtyqrfVNq",
    "scrolled": true
   },
   "outputs": [
    {
     "name": "stdout",
     "output_type": "stream",
     "text": [
      "Requirement already satisfied: dlt[duckdb] in /opt/homebrew/Caskroom/miniforge/base/envs/DEZoomcamp/lib/python3.11/site-packages (0.4.4)\n",
      "Requirement already satisfied: PyYAML>=5.4.1 in /opt/homebrew/Caskroom/miniforge/base/envs/DEZoomcamp/lib/python3.11/site-packages (from dlt[duckdb]) (6.0.1)\n",
      "Requirement already satisfied: SQLAlchemy>=1.4.0 in /opt/homebrew/Caskroom/miniforge/base/envs/DEZoomcamp/lib/python3.11/site-packages (from dlt[duckdb]) (1.4.51)\n",
      "Requirement already satisfied: astunparse>=1.6.3 in /opt/homebrew/Caskroom/miniforge/base/envs/DEZoomcamp/lib/python3.11/site-packages (from dlt[duckdb]) (1.6.3)\n",
      "Requirement already satisfied: click>=7.1 in /opt/homebrew/Caskroom/miniforge/base/envs/DEZoomcamp/lib/python3.11/site-packages (from dlt[duckdb]) (8.1.7)\n",
      "Requirement already satisfied: duckdb<0.10.0,>=0.6.1 in /opt/homebrew/Caskroom/miniforge/base/envs/DEZoomcamp/lib/python3.11/site-packages (from dlt[duckdb]) (0.9.2)\n",
      "Requirement already satisfied: fsspec>=2022.4.0 in /opt/homebrew/Caskroom/miniforge/base/envs/DEZoomcamp/lib/python3.11/site-packages (from dlt[duckdb]) (2024.2.0)\n",
      "Requirement already satisfied: gitpython>=3.1.29 in /opt/homebrew/Caskroom/miniforge/base/envs/DEZoomcamp/lib/python3.11/site-packages (from dlt[duckdb]) (3.1.41)\n",
      "Requirement already satisfied: giturlparse>=0.10.0 in /opt/homebrew/Caskroom/miniforge/base/envs/DEZoomcamp/lib/python3.11/site-packages (from dlt[duckdb]) (0.12.0)\n",
      "Requirement already satisfied: hexbytes>=0.2.2 in /opt/homebrew/Caskroom/miniforge/base/envs/DEZoomcamp/lib/python3.11/site-packages (from dlt[duckdb]) (1.0.0)\n",
      "Requirement already satisfied: humanize>=4.4.0 in /opt/homebrew/Caskroom/miniforge/base/envs/DEZoomcamp/lib/python3.11/site-packages (from dlt[duckdb]) (4.9.0)\n",
      "Requirement already satisfied: jsonpath-ng>=1.5.3 in /opt/homebrew/Caskroom/miniforge/base/envs/DEZoomcamp/lib/python3.11/site-packages (from dlt[duckdb]) (1.6.1)\n",
      "Requirement already satisfied: makefun>=1.15.0 in /opt/homebrew/Caskroom/miniforge/base/envs/DEZoomcamp/lib/python3.11/site-packages (from dlt[duckdb]) (1.15.2)\n",
      "Requirement already satisfied: orjson<=3.9.10,>=3.6.7 in /opt/homebrew/Caskroom/miniforge/base/envs/DEZoomcamp/lib/python3.11/site-packages (from dlt[duckdb]) (3.9.10)\n",
      "Requirement already satisfied: packaging>=21.1 in /opt/homebrew/Caskroom/miniforge/base/envs/DEZoomcamp/lib/python3.11/site-packages (from dlt[duckdb]) (23.2)\n",
      "Requirement already satisfied: pathvalidate>=2.5.2 in /opt/homebrew/Caskroom/miniforge/base/envs/DEZoomcamp/lib/python3.11/site-packages (from dlt[duckdb]) (3.2.0)\n",
      "Requirement already satisfied: pendulum>=2.1.2 in /opt/homebrew/Caskroom/miniforge/base/envs/DEZoomcamp/lib/python3.11/site-packages (from dlt[duckdb]) (3.0.0)\n",
      "Requirement already satisfied: pytz>=2022.6 in /opt/homebrew/Caskroom/miniforge/base/envs/DEZoomcamp/lib/python3.11/site-packages (from dlt[duckdb]) (2024.1)\n",
      "Requirement already satisfied: requests>=2.26.0 in /opt/homebrew/Caskroom/miniforge/base/envs/DEZoomcamp/lib/python3.11/site-packages (from dlt[duckdb]) (2.31.0)\n",
      "Requirement already satisfied: requirements-parser>=0.5.0 in /opt/homebrew/Caskroom/miniforge/base/envs/DEZoomcamp/lib/python3.11/site-packages (from dlt[duckdb]) (0.5.0)\n",
      "Requirement already satisfied: semver>=2.13.0 in /opt/homebrew/Caskroom/miniforge/base/envs/DEZoomcamp/lib/python3.11/site-packages (from dlt[duckdb]) (3.0.2)\n",
      "Requirement already satisfied: setuptools>=65.6.0 in /opt/homebrew/Caskroom/miniforge/base/envs/DEZoomcamp/lib/python3.11/site-packages (from dlt[duckdb]) (69.0.3)\n",
      "Requirement already satisfied: simplejson>=3.17.5 in /opt/homebrew/Caskroom/miniforge/base/envs/DEZoomcamp/lib/python3.11/site-packages (from dlt[duckdb]) (3.19.2)\n",
      "Requirement already satisfied: tenacity>=8.0.2 in /opt/homebrew/Caskroom/miniforge/base/envs/DEZoomcamp/lib/python3.11/site-packages (from dlt[duckdb]) (8.2.3)\n",
      "Requirement already satisfied: tomlkit>=0.11.3 in /opt/homebrew/Caskroom/miniforge/base/envs/DEZoomcamp/lib/python3.11/site-packages (from dlt[duckdb]) (0.12.3)\n",
      "Requirement already satisfied: typing-extensions>=4.0.0 in /opt/homebrew/Caskroom/miniforge/base/envs/DEZoomcamp/lib/python3.11/site-packages (from dlt[duckdb]) (4.5.0)\n",
      "Requirement already satisfied: tzdata>=2022.1 in /opt/homebrew/Caskroom/miniforge/base/envs/DEZoomcamp/lib/python3.11/site-packages (from dlt[duckdb]) (2023.4)\n",
      "Requirement already satisfied: wheel<1.0,>=0.23.0 in /opt/homebrew/Caskroom/miniforge/base/envs/DEZoomcamp/lib/python3.11/site-packages (from astunparse>=1.6.3->dlt[duckdb]) (0.42.0)\n",
      "Requirement already satisfied: six<2.0,>=1.6.1 in /opt/homebrew/Caskroom/miniforge/base/envs/DEZoomcamp/lib/python3.11/site-packages (from astunparse>=1.6.3->dlt[duckdb]) (1.16.0)\n",
      "Requirement already satisfied: gitdb<5,>=4.0.1 in /opt/homebrew/Caskroom/miniforge/base/envs/DEZoomcamp/lib/python3.11/site-packages (from gitpython>=3.1.29->dlt[duckdb]) (4.0.11)\n",
      "Requirement already satisfied: ply in /opt/homebrew/Caskroom/miniforge/base/envs/DEZoomcamp/lib/python3.11/site-packages (from jsonpath-ng>=1.5.3->dlt[duckdb]) (3.11)\n",
      "Requirement already satisfied: python-dateutil>=2.6 in /opt/homebrew/Caskroom/miniforge/base/envs/DEZoomcamp/lib/python3.11/site-packages (from pendulum>=2.1.2->dlt[duckdb]) (2.8.2)\n",
      "Requirement already satisfied: time-machine>=2.6.0 in /opt/homebrew/Caskroom/miniforge/base/envs/DEZoomcamp/lib/python3.11/site-packages (from pendulum>=2.1.2->dlt[duckdb]) (2.13.0)\n",
      "Requirement already satisfied: charset-normalizer<4,>=2 in /opt/homebrew/Caskroom/miniforge/base/envs/DEZoomcamp/lib/python3.11/site-packages (from requests>=2.26.0->dlt[duckdb]) (3.3.2)\n",
      "Requirement already satisfied: idna<4,>=2.5 in /opt/homebrew/Caskroom/miniforge/base/envs/DEZoomcamp/lib/python3.11/site-packages (from requests>=2.26.0->dlt[duckdb]) (3.6)\n",
      "Requirement already satisfied: urllib3<3,>=1.21.1 in /opt/homebrew/Caskroom/miniforge/base/envs/DEZoomcamp/lib/python3.11/site-packages (from requests>=2.26.0->dlt[duckdb]) (1.26.18)\n",
      "Requirement already satisfied: certifi>=2017.4.17 in /opt/homebrew/Caskroom/miniforge/base/envs/DEZoomcamp/lib/python3.11/site-packages (from requests>=2.26.0->dlt[duckdb]) (2023.11.17)\n",
      "Requirement already satisfied: types-setuptools>=57.0.0 in /opt/homebrew/Caskroom/miniforge/base/envs/DEZoomcamp/lib/python3.11/site-packages (from requirements-parser>=0.5.0->dlt[duckdb]) (69.1.0.20240217)\n",
      "Requirement already satisfied: smmap<6,>=3.0.1 in /opt/homebrew/Caskroom/miniforge/base/envs/DEZoomcamp/lib/python3.11/site-packages (from gitdb<5,>=4.0.1->gitpython>=3.1.29->dlt[duckdb]) (5.0.1)\n"
     ]
    }
   ],
   "source": [
    "#Install the dependencies\n",
    "!pip install 'dlt[duckdb]'"
   ]
  },
  {
   "cell_type": "code",
   "execution_count": 10,
   "metadata": {
    "id": "a2-PRBAkGC2K"
   },
   "outputs": [],
   "source": [
    "# to do: homework :)"
   ]
  },
  {
   "cell_type": "markdown",
   "metadata": {
    "id": "PoTJu4kbGG0z"
   },
   "source": [
    "Questions? difficulties? We are here to help.\n",
    "- DTC data engineering course channel: https://datatalks-club.slack.com/archives/C01FABYF2RG\n",
    "- dlt's DTC cohort channel: https://dlthub-community.slack.com/archives/C06GAEX2VNX"
   ]
  }
 ],
 "metadata": {
  "colab": {
   "provenance": []
  },
  "kernelspec": {
   "display_name": "Python 3 (ipykernel)",
   "language": "python",
   "name": "python3"
  },
  "language_info": {
   "codemirror_mode": {
    "name": "ipython",
    "version": 3
   },
   "file_extension": ".py",
   "mimetype": "text/x-python",
   "name": "python",
   "nbconvert_exporter": "python",
   "pygments_lexer": "ipython3",
   "version": "3.11.7"
  }
 },
 "nbformat": 4,
 "nbformat_minor": 4
}
